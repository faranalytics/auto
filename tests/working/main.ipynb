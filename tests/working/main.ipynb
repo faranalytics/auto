{
 "cells": [
  {
   "cell_type": "code",
   "execution_count": 1,
   "id": "ab1205b1",
   "metadata": {},
   "outputs": [
    {
     "name": "stdout",
     "output_type": "stream",
     "text": [
      "\n",
      "<rem id=\"1\">One</rem>\n",
      "<rem id=\"2\">Two Updated</rem>\n",
      "\n"
     ]
    }
   ],
   "source": [
    "from bs4 import BeautifulSoup, PageElement, ResultSet, Tag\n",
    "import bs4\n",
    "memory = \"\"\"\n",
    "<rem id=\"1\">One</rem>\n",
    "<rem id=\"2\">Two</rem>\n",
    "\"\"\"\n",
    "soup = BeautifulSoup(memory, \"html.parser\")\n",
    "\n",
    "tag = soup.find(name=\"rem\", attrs={\"id\":\"2\"})\n",
    "\n",
    "tag.string=\"Two Updated\"\n",
    "\n",
    "print(str(soup))"
   ]
  },
  {
   "cell_type": "code",
   "execution_count": 7,
   "id": "50bb38b2",
   "metadata": {},
   "outputs": [
    {
     "data": {
      "text/plain": [
       "\n",
       "<rem id=\"1\">One</rem>\n",
       "<rem id=\"2\">Two Updated</rem>\n",
       "<rem test=\"test\">TEST</rem>"
      ]
     },
     "execution_count": 7,
     "metadata": {},
     "output_type": "execute_result"
    }
   ],
   "source": [
    "tag = bs4.Tag(name=\"rem\")\n",
    "\n",
    "tag.string = \"TEST\"\n",
    "\n",
    "tag.attrs.update({\"test\":\"test\"})\n",
    "\n",
    "soup.append(tag)\n",
    "\n",
    "soup"
   ]
  },
  {
   "cell_type": "code",
   "execution_count": 9,
   "id": "44cea872",
   "metadata": {},
   "outputs": [
    {
     "name": "stdout",
     "output_type": "stream",
     "text": [
      "A\n"
     ]
    }
   ],
   "source": [
    "data = input(\"TEST\")\n",
    "\n",
    "print(data)"
   ]
  }
 ],
 "metadata": {
  "kernelspec": {
   "display_name": "auto",
   "language": "python",
   "name": "python3"
  },
  "language_info": {
   "codemirror_mode": {
    "name": "ipython",
    "version": 3
   },
   "file_extension": ".py",
   "mimetype": "text/x-python",
   "name": "python",
   "nbconvert_exporter": "python",
   "pygments_lexer": "ipython3",
   "version": "3.12.11"
  }
 },
 "nbformat": 4,
 "nbformat_minor": 5
}
